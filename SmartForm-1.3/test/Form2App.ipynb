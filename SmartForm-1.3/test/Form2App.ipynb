{
 "cells": [
  {
   "cell_type": "code",
   "execution_count": 2,
   "metadata": {},
   "outputs": [
    {
     "name": "stdout",
     "output_type": "stream",
     "text": [
      " Australian\n",
      " National\n",
      " niversity\n",
      " INDEPENDENT STUDY CONTRACT\n",
      " Note: Enrolment is subject to approval by the projects co-ordinator\n",
      " SECTION A(Students and Supervisors)\n",
      " UnilD:\n",
      " SURNAME:\n",
      " FIRST NAMES:\n",
      " PROJECT SUPERVISOR (may be external):\n",
      " COURSE SUPERVISOR ( RSCS academic):\n",
      " COURSE CODE, TITLE AND UNIT:\n",
      " SEMESTERS\\xe2\\x96\\xa1S2Ye:\n",
      " PROJECT TITLE:\n",
      " LEARNING OBJECTIVES:\n",
      " PROJECT DESCRIPTION:\n",
      " Research School of Computer Science\n",
      " Form updated Jan 2017\n",
      "\"width\": 93, \"top\": 156, \"left\": 330, \"height\": 22\n",
      "\"width\": 67, \"top\": 173, \"left\": 339, \"height\": 23\n",
      "\"width\": 66, \"top\": 196, \"left\": 355, \"height\": 19\n",
      "\"width\": 626, \"top\": 262, \"left\": 315, \"height\": 40\n",
      "\"width\": 546, \"top\": 318, \"left\": 345, \"height\": 27\n",
      "\"width\": 385, \"top\": 379, \"left\": 182, \"height\": 28\n",
      "\"width\": 57, \"top\": 429, \"left\": 174, \"height\": 29\n",
      "\"width\": 102, \"top\": 480, \"left\": 173, \"height\": 25\n",
      "\"width\": 114, \"top\": 488, \"left\": 555, \"height\": 21\n",
      "\"width\": 304, \"top\": 529, \"left\": 173, \"height\": 30\n",
      "\"width\": 294, \"top\": 567, \"left\": 173, \"height\": 33\n",
      "\"width\": 260, \"top\": 621, \"left\": 172, \"height\": 25\n",
      "\"width\": 282, \"top\": 676, \"left\": 182, \"height\": 28\n",
      "\"width\": 125, \"top\": 711, \"left\": 183, \"height\": 24\n",
      "\"width\": 191, \"top\": 860, \"left\": 183, \"height\": 18\n",
      "\"width\": 188, \"top\": 992, \"left\": 183, \"height\": 22\n",
      "\"width\": 286, \"top\": 1436, \"left\": 163, \"height\": 26\n",
      "\"width\": 175, \"top\": 1443, \"left\": 868, \"height\": 19\n"
     ]
    }
   ],
   "source": [
    "# encoding: utf-8\n",
    "import time\n",
    "import sys,io\n",
    "import re\n",
    "time1 = time.time()\n",
    "import urllib, base64\n",
    "import json\n",
    "\n",
    "\n",
    "def get_token(API_Key,Secret_Key):\n",
    "    host = 'https://aip.baidubce.com/oauth/2.0/token?grant_type=client_credentials&client_id='+API_Key+'&client_secret='+Secret_Key\n",
    "    request = urllib.request.Request(host)\n",
    "    request.add_header('Content-Type', 'application/json; charset=UTF-8')\n",
    "    response = urllib.request.urlopen(request)\n",
    "    content = response.read()\n",
    "    content_json=json.loads(content)\n",
    "    access_token=content_json['access_token']\n",
    "    return access_token\n",
    "\n",
    "def recognition_word_high(filepath,filename,access_token):\n",
    "    url='https://aip.baidubce.com/rest/2.0/ocr/v1/accurate?access_token=' + access_token\n",
    "    f = open(filepath + filename, 'rb')\n",
    "    img = base64.b64encode(f.read())\n",
    "    params = {\"image\": img}\n",
    "    params = urllib.parse.urlencode(params).encode(encoding='UTF8')\n",
    "    request = urllib.request.Request(url, params)\n",
    "    request.add_header('Content-Type', 'application/x-www-form-urlencoded')\n",
    "    response = urllib.request.urlopen(request)\n",
    "    content = response.read()\n",
    "    if (content):\n",
    "        \n",
    "        #log_id=re.findall('\"log_id\":\"(.*?)\"}',str(content),re.S)\n",
    "        location=re.findall('\"location\": {(.*?)}',str(content),re.S)\n",
    "        word=re.findall('\"words\": \"(.*?)\"}',str(content),re.S)\n",
    "        for each_word in word:\n",
    "            print (each_word.encode().decode())\n",
    "        for each_location in location:\n",
    "            print (each_location.encode().decode())\n",
    "    #url_1='https://aip.baidubce.com/rest/2.0/solution/v1/form_ocr/get_request_result?access_token=' + access_token\n",
    "    #params_1 = {\"request_id\": request_id[0],\"request_type\":\"excel\"}\n",
    "    #params_1 = urllib.parse.urlencode(params_1).encode(encoding='UTF8')\n",
    "    #request_1 = urllib.request.Request(url_1, params_1)\n",
    "    #request_1.add_header('Content-Type', 'application/x-www-form-urlencoded')\n",
    "    #response_1 = urllib.request.urlopen(request_1)\n",
    "    #content_1 = response_1.read()\n",
    "    #if (content_1):\n",
    "        #print(content_1.decode())\n",
    "    return word,location\n",
    "\n",
    "\n",
    "if __name__ == '__main__':\n",
    "    API_Key = \"v6cd6adVIU9WlfSFB2XNiu95\"\n",
    "    Secret_Key = \"CQ033fD5YdfArKI96sEBQOqGFBlDjSZC\"\n",
    "    filepath = \"./tests/data/\"\n",
    "    filename=\"contract3 1.png\"\n",
    "    access_token=get_token(API_Key,Secret_Key)\n",
    "    word,location=recognition_word_high=recognition_word_high(filepath,filename,access_token)"
   ]
  },
  {
   "cell_type": "code",
   "execution_count": 3,
   "metadata": {},
   "outputs": [
    {
     "name": "stdout",
     "output_type": "stream",
     "text": [
      "[ 156  173  196  262  318  379  429  480  488  529  567  621  676  711\n",
      "  860  992 1436 1443]\n",
      "[330 339 355 315 345 182 174 173 555 173 173 172 182 183 183 183 163 868]\n",
      "[ 93  67  66 626 546 385  57 102 114 304 294 260 282 125 191 188 286 175]\n",
      "[22 23 19 40 27 28 29 25 21 30 33 25 28 24 18 22 26 19]\n"
     ]
    }
   ],
   "source": [
    "import numpy as np\n",
    "top_list=[]\n",
    "left_list=[]\n",
    "width_list=[]\n",
    "height_list=[]\n",
    "all_info=re.findall(r'\\d+\\d*',str(location))\n",
    "for i in range(len(location)):\n",
    "    width_list.append(all_info[4*i])\n",
    "    top_list.append(all_info[4*i+1])\n",
    "    left_list.append(all_info[4*i+2])\n",
    "    height_list.append(all_info[4*i+3])\n",
    "top_list=np.array(top_list).astype(int)\n",
    "left_list=np.array(left_list).astype(int)\n",
    "width_list=np.array(width_list).astype(int)\n",
    "height_list=np.array(height_list).astype(int)\n",
    "print(top_list)\n",
    "print(left_list)\n",
    "print(width_list)\n",
    "print(height_list)"
   ]
  },
  {
   "cell_type": "code",
   "execution_count": 6,
   "metadata": {},
   "outputs": [
    {
     "data": {
      "text/plain": [
       "True"
      ]
     },
     "execution_count": 6,
     "metadata": {},
     "output_type": "execute_result"
    }
   ],
   "source": [
    "import cv2\n",
    "img=cv2.imread(\"./tests/data/contract3 1.png\")\n",
    "cv2.imshow('visualize',img)\n",
    "cv2.waitKey(0)\n",
    "GrayImage=cv2.cvtColor(img,cv2.COLOR_BGR2GRAY)\n",
    "ret, th = cv2.threshold(GrayImage,0,255,cv2.THRESH_BINARY | cv2.THRESH_OTSU)\n",
    "#th_morph = cv2.morphologyEx(th, cv2.MORPH_CLOSE, cv2.getStructuringElement(cv2.MORPH_ELLIPSE, (1, 1)))\n",
    "th_blur=cv2.GaussianBlur(th,(5,5),0)\n",
    "#th = cv2.adaptiveThreshold(GrayImage,255,cv2.ADAPTIVE_THRESH_MEAN_C,cv2.THRESH_BINARY,5,5)\n",
    "#cv2.imwrite(\"./tests/data/contract3 1 th.png\", th)\n",
    "canny_result=cv2.Canny(th_blur,50,200)\n",
    "cv2.imshow(\"canny_result\",canny_result)\n",
    "cv2.waitKey(0)\n",
    "contours,hierarchy=cv2.findContours(canny_result,cv2.RETR_TREE,cv2.CHAIN_APPROX_NONE)\n",
    "for cont in contours:\n",
    "    perimeter = cv2.arcLength(cont,True)\n",
    "    epsilon = 0.02*cv2.arcLength(cont,True)\n",
    "    approx = cv2.approxPolyDP(cont,epsilon,True)\n",
    "    if (len(approx)==4 and abs(cv2.contourArea(cont))>100):\n",
    "        point_1=approx[0,0]\n",
    "        point_2=approx[1,0]\n",
    "        point_3=approx[2,0]\n",
    "        point_4=approx[3,0]\n",
    "        min_1_2_3=min(abs(Angle_Cosine(point_1,point_2,point_3)),abs(Angle_Cosine(point_2,point_1,point_3)),abs(Angle_Cosine(point_3,point_1,point_2)))\n",
    "        min_1_2_4=min(abs(Angle_Cosine(point_1,point_2,point_4)),abs(Angle_Cosine(point_2,point_1,point_4)),abs(Angle_Cosine(point_4,point_1,point_2)))\n",
    "        min_1_3_4=min(abs(Angle_Cosine(point_1,point_3,point_4)),abs(Angle_Cosine(point_3,point_1,point_4)),abs(Angle_Cosine(point_4,point_1,point_3)))\n",
    "        min_2_3_4=min(abs(Angle_Cosine(point_2,point_3,point_4)),abs(Angle_Cosine(point_3,point_2,point_4)),abs(Angle_Cosine(point_4,point_2,point_3)))\n",
    "        if(min_1_2_3<0.1 and min_1_2_4<0.1 and min_1_3_4<0.1 and min_2_3_4<0.1):\n",
    "            cv2.drawContours(img,cont,-1,(255,0,0))\n",
    "for i in range(len(top_list)):\n",
    "    cv2.rectangle(img, (left_list[i],top_list[i]), (left_list[i]+width_list[i],top_list[i]+height_list[i]),(0,0,255), 2)\n",
    "cv2.imshow(\"visualize\", img)\n",
    "cv2.waitKey(0)\n",
    "cv2.imwrite(\"Visualize_Result.png\", img)"
   ]
  },
  {
   "cell_type": "code",
   "execution_count": 1,
   "metadata": {},
   "outputs": [],
   "source": [
    "def Angle_Cosine(a,b,c):\n",
    "    a_b_vector=a-b\n",
    "    a_c_vector=a-c\n",
    "    cosine=(a_b_vector@a_c_vector)/(np.linalg.norm(a_b_vector)*np.linalg.norm(a_c_vector))\n",
    "    return cosine"
   ]
  }
 ],
 "metadata": {
  "kernelspec": {
   "display_name": "Python 3",
   "language": "python",
   "name": "python3"
  },
  "language_info": {
   "codemirror_mode": {
    "name": "ipython",
    "version": 3
   },
   "file_extension": ".py",
   "mimetype": "text/x-python",
   "name": "python",
   "nbconvert_exporter": "python",
   "pygments_lexer": "ipython3",
   "version": "3.5.6"
  }
 },
 "nbformat": 4,
 "nbformat_minor": 2
}