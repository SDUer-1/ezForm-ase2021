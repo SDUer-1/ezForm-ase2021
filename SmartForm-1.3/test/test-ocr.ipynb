{
 "cells": [
  {
   "cell_type": "code",
   "execution_count": 14,
   "metadata": {},
   "outputs": [],
   "source": [
    "# encoding: utf-8\n",
    "import time\n",
    "import sys,io\n",
    "import re\n",
    "time1 = time.time()\n",
    "import urllib, base64\n",
    "import json\n",
    "import cv2\n",
    "\n",
    "API_Key = \"v6cd6adVIU9WlfSFB2XNiu95\"\n",
    "Secret_Key = \"CQ033fD5YdfArKI96sEBQOqGFBlDjSZC\"\n",
    "host = 'https://aip.baidubce.com/oauth/2.0/token?grant_type=client_credentials&client_id=' + API_Key + '&client_secret=' + Secret_Key\n",
    "request = urllib.request.Request(host, headers={'Content-Type':'application/json; charset=UTF-8'})\n",
    "response = urllib.request.urlopen(request)\n",
    "content = response.read().decode('utf-8')\n",
    "content_json = json.loads(content)\n",
    "access_token = content_json['access_token']"
   ]
  },
  {
   "cell_type": "code",
   "execution_count": 28,
   "metadata": {},
   "outputs": [
    {
     "name": "stdout",
     "output_type": "stream",
     "text": [
      " Australian\n",
      " anusa\n",
      " National\n",
      " anusa,com.au\n",
      " University\n",
      " ANU Book Award\n",
      " APPLICANT INFORMATION\n",
      " Name:\n",
      " Student ID:\n",
      " Date of birth:\n",
      " Phone:\n",
      " Email:\n",
      " Program of study: (e.g. Bachelor or Master of Visual Arts)\n",
      " Domestic or Intemational student:\n",
      " BOOKS REQUIRED FOR CURRENTLY ENROLLED COURSES\n",
      " Course Code:\n",
      " Name of Book(s)Required:\n",
      " Cost of Book(s):\n",
      " REASONS FOR APPLICATION\n",
      " Please explain your situation and your reasons for needing assistance, including the steps that you have taken to resolve your\n",
      " current financial situation.\n",
      " SIGNATURES\n",
      " I give permission for my academic record and other documents to be held by ANUSA and the University to be assessed for the\n",
      " ANU Book Award. Any information supplied will be treated in confidence and will be used by ANUSA and the University to determine\n",
      " eligibility for this program only. I declare that the information provided on this form is true and complete\n",
      " Signature of applicant:\n",
      " Date:\n",
      " Application received by:\n",
      " Date received:\n",
      " Decision on application and amount awarded:\n",
      " Date of decision:\n",
      " Co-signed:\n",
      " Date:\n",
      " Co-signed:\n",
      " Date:\n",
      "\"width\": 66, \"top\": 31, \"height\": 14, \"left\": 385\n",
      "\"width\": 85, \"top\": 40, \"height\": 20, \"left\": 213\n",
      "\"width\": 53, \"top\": 46, \"height\": 12, \"left\": 387\n",
      "\"width\": 93, \"top\": 63, \"height\": 12, \"left\": 205\n",
      "\"width\": 63, \"top\": 58, \"height\": 16, \"left\": 385\n",
      "\"width\": 124, \"top\": 86, \"height\": 17, \"left\": 43\n",
      "\"width\": 132, \"top\": 114, \"height\": 14, \"left\": 43\n",
      "\"width\": 34, \"top\": 136, \"height\": 12, \"left\": 43\n",
      "\"width\": 48, \"top\": 137, \"height\": 11, \"left\": 333\n",
      "\"width\": 62, \"top\": 154, \"height\": 12, \"left\": 43\n",
      "\"width\": 31, \"top\": 156, \"height\": 10, \"left\": 178\n",
      "\"width\": 27, \"top\": 156, \"height\": 10, \"left\": 333\n",
      "\"width\": 243, \"top\": 172, \"height\": 15, \"left\": 43\n",
      "\"width\": 148, \"top\": 192, \"height\": 12, \"left\": 43\n",
      "\"width\": 268, \"top\": 212, \"height\": 12, \"left\": 48\n",
      "\"width\": 62, \"top\": 230, \"height\": 12, \"left\": 43\n",
      "\"width\": 119, \"top\": 228, \"height\": 15, \"left\": 173\n",
      "\"width\": 73, \"top\": 229, \"height\": 13, \"left\": 500\n",
      "\"width\": 141, \"top\": 372, \"height\": 12, \"left\": 43\n",
      "\"width\": 537, \"top\": 387, \"height\": 16, \"left\": 43\n",
      "\"width\": 114, \"top\": 401, \"height\": 14, \"left\": 42\n",
      "\"width\": 68, \"top\": 626, \"height\": 12, \"left\": 43\n",
      "\"width\": 531, \"top\": 643, \"height\": 14, \"left\": 48\n",
      "\"width\": 537, \"top\": 654, \"height\": 19, \"left\": 42\n",
      "\"width\": 434, \"top\": 667, \"height\": 11, \"left\": 42\n",
      "\"width\": 99, \"top\": 684, \"height\": 13, \"left\": 43\n",
      "\"width\": 31, \"top\": 679, \"height\": 14, \"left\": 328\n",
      "\"width\": 102, \"top\": 734, \"height\": 12, \"left\": 43\n",
      "\"width\": 67, \"top\": 733, \"height\": 15, \"left\": 327\n",
      "\"width\": 193, \"top\": 751, \"height\": 13, \"left\": 43\n",
      "\"width\": 73, \"top\": 753, \"height\": 11, \"left\": 332\n",
      "\"width\": 50, \"top\": 770, \"height\": 13, \"left\": 43\n",
      "\"width\": 32, \"top\": 770, \"height\": 14, \"left\": 327\n",
      "\"width\": 50, \"top\": 790, \"height\": 13, \"left\": 43\n",
      "\"width\": 32, \"top\": 789, \"height\": 15, \"left\": 327\n"
     ]
    }
   ],
   "source": [
    "url = 'https://aip.baidubce.com/rest/2.0/ocr/v1/accurate?access_token=' + access_token\n",
    "filename = '1.jpg'\n",
    "f = open(filename, 'rb')\n",
    "img = base64.b64encode(f.read())\n",
    "params = urllib.parse.urlencode({\"image\": img}).encode(encoding='UTF8')\n",
    "request = urllib.request.Request(url, data=params, headers={'Content-Type': 'application/x-www-form-urlencoded'})\n",
    "response = urllib.request.urlopen(request)\n",
    "content = response.read().decode(encoding='UTF8')\n",
    "if (content):\n",
    "    # log_id=re.findall('\"log_id\":\"(.*?)\"}',str(content),re.S)\n",
    "    location = re.findall('\"location\": {(.*?)}', str(content), re.S)\n",
    "    word = re.findall('\"words\": \"(.*?)\"}', str(content), re.S)\n",
    "    for each_word in word:\n",
    "        print(each_word.encode().decode())\n",
    "    for each_location in location:\n",
    "        print(each_location.encode().decode())"
   ]
  },
  {
   "cell_type": "code",
   "execution_count": 16,
   "metadata": {
    "scrolled": true
   },
   "outputs": [
    {
     "data": {
      "text/plain": [
       "'{\"log_id\": 7030915480820243726, \"words_result_num\": 35, \"words_result\": [{\"location\": {\"width\": 66, \"top\": 31, \"left\": 385, \"height\": 14}, \"words\": \" Australian\"}, {\"location\": {\"width\": 85, \"top\": 40, \"left\": 213, \"height\": 20}, \"words\": \" anusa\"}, {\"location\": {\"width\": 53, \"top\": 46, \"left\": 387, \"height\": 12}, \"words\": \" National\"}, {\"location\": {\"width\": 93, \"top\": 63, \"left\": 205, \"height\": 12}, \"words\": \" anusa,com.au\"}, {\"location\": {\"width\": 63, \"top\": 58, \"left\": 385, \"height\": 16}, \"words\": \" University\"}, {\"location\": {\"width\": 124, \"top\": 86, \"left\": 43, \"height\": 17}, \"words\": \" ANU Book Award\"}, {\"location\": {\"width\": 132, \"top\": 114, \"left\": 43, \"height\": 14}, \"words\": \" APPLICANT INFORMATION\"}, {\"location\": {\"width\": 34, \"top\": 136, \"left\": 43, \"height\": 12}, \"words\": \" Name:\"}, {\"location\": {\"width\": 48, \"top\": 137, \"left\": 333, \"height\": 11}, \"words\": \" Student ID:\"}, {\"location\": {\"width\": 62, \"top\": 154, \"left\": 43, \"height\": 12}, \"words\": \" Date of birth:\"}, {\"location\": {\"width\": 31, \"top\": 156, \"left\": 178, \"height\": 10}, \"words\": \" Phone:\"}, {\"location\": {\"width\": 27, \"top\": 156, \"left\": 333, \"height\": 10}, \"words\": \" Email:\"}, {\"location\": {\"width\": 243, \"top\": 172, \"left\": 43, \"height\": 15}, \"words\": \" Program of study: (e.g. Bachelor or Master of Visual Arts)\"}, {\"location\": {\"width\": 148, \"top\": 192, \"left\": 43, \"height\": 12}, \"words\": \" Domestic or Intemational student:\"}, {\"location\": {\"width\": 268, \"top\": 212, \"left\": 48, \"height\": 12}, \"words\": \" BOOKS REQUIRED FOR CURRENTLY ENROLLED COURSES\"}, {\"location\": {\"width\": 62, \"top\": 230, \"left\": 43, \"height\": 12}, \"words\": \" Course Code:\"}, {\"location\": {\"width\": 119, \"top\": 228, \"left\": 173, \"height\": 15}, \"words\": \" Name of Book(s)Required:\"}, {\"location\": {\"width\": 73, \"top\": 229, \"left\": 500, \"height\": 13}, \"words\": \" Cost of Book(s):\"}, {\"location\": {\"width\": 141, \"top\": 372, \"left\": 43, \"height\": 12}, \"words\": \" REASONS FOR APPLICATION\"}, {\"location\": {\"width\": 537, \"top\": 387, \"left\": 43, \"height\": 16}, \"words\": \" Please explain your situation and your reasons for needing assistance, including the steps that you have taken to resolve your\"}, {\"location\": {\"width\": 114, \"top\": 401, \"left\": 42, \"height\": 14}, \"words\": \" current financial situation.\"}, {\"location\": {\"width\": 68, \"top\": 626, \"left\": 43, \"height\": 12}, \"words\": \" SIGNATURES\"}, {\"location\": {\"width\": 531, \"top\": 643, \"left\": 48, \"height\": 14}, \"words\": \" I give permission for my academic record and other documents to be held by ANUSA and the University to be assessed for the\"}, {\"location\": {\"width\": 537, \"top\": 654, \"left\": 42, \"height\": 19}, \"words\": \" ANU Book Award. Any information supplied will be treated in confidence and will be used by ANUSA and the University to determine\"}, {\"location\": {\"width\": 434, \"top\": 667, \"left\": 42, \"height\": 11}, \"words\": \" eligibility for this program only. I declare that the information provided on this form is true and complete\"}, {\"location\": {\"width\": 99, \"top\": 684, \"left\": 43, \"height\": 13}, \"words\": \" Signature of applicant:\"}, {\"location\": {\"width\": 31, \"top\": 679, \"left\": 328, \"height\": 14}, \"words\": \" Date:\"}, {\"location\": {\"width\": 102, \"top\": 734, \"left\": 43, \"height\": 12}, \"words\": \" Application received by:\"}, {\"location\": {\"width\": 67, \"top\": 733, \"left\": 327, \"height\": 15}, \"words\": \" Date received:\"}, {\"location\": {\"width\": 193, \"top\": 751, \"left\": 43, \"height\": 13}, \"words\": \" Decision on application and amount awarded:\"}, {\"location\": {\"width\": 73, \"top\": 753, \"left\": 332, \"height\": 11}, \"words\": \" Date of decision:\"}, {\"location\": {\"width\": 50, \"top\": 770, \"left\": 43, \"height\": 13}, \"words\": \" Co-signed:\"}, {\"location\": {\"width\": 32, \"top\": 770, \"left\": 327, \"height\": 14}, \"words\": \" Date:\"}, {\"location\": {\"width\": 50, \"top\": 790, \"left\": 43, \"height\": 13}, \"words\": \" Co-signed:\"}, {\"location\": {\"width\": 32, \"top\": 789, \"left\": 327, \"height\": 15}, \"words\": \" Date:\"}]}'"
      ]
     },
     "execution_count": 16,
     "metadata": {},
     "output_type": "execute_result"
    }
   ],
   "source": [
    "content"
   ]
  },
  {
   "cell_type": "code",
   "execution_count": 17,
   "metadata": {},
   "outputs": [],
   "source": [
    "content = json.loads(content)"
   ]
  },
  {
   "cell_type": "code",
   "execution_count": 10,
   "metadata": {},
   "outputs": [
    {
     "data": {
      "text/plain": [
       "{'log_id': 851281211115554350,\n",
       " 'words_result': [{'location': {'height': 14,\n",
       "    'left': 385,\n",
       "    'top': 31,\n",
       "    'width': 66},\n",
       "   'words': ' Australian'},\n",
       "  {'location': {'height': 20, 'left': 213, 'top': 40, 'width': 85},\n",
       "   'words': ' anusa'},\n",
       "  {'location': {'height': 12, 'left': 387, 'top': 46, 'width': 53},\n",
       "   'words': ' National'},\n",
       "  {'location': {'height': 12, 'left': 205, 'top': 63, 'width': 93},\n",
       "   'words': ' anusa,com.au'},\n",
       "  {'location': {'height': 16, 'left': 385, 'top': 58, 'width': 63},\n",
       "   'words': ' University'},\n",
       "  {'location': {'height': 17, 'left': 43, 'top': 86, 'width': 124},\n",
       "   'words': ' ANU Book Award'},\n",
       "  {'location': {'height': 14, 'left': 43, 'top': 114, 'width': 132},\n",
       "   'words': ' APPLICANT INFORMATION'},\n",
       "  {'location': {'height': 12, 'left': 43, 'top': 136, 'width': 34},\n",
       "   'words': ' Name:'},\n",
       "  {'location': {'height': 11, 'left': 333, 'top': 137, 'width': 48},\n",
       "   'words': ' Student ID:'},\n",
       "  {'location': {'height': 12, 'left': 43, 'top': 154, 'width': 62},\n",
       "   'words': ' Date of birth:'},\n",
       "  {'location': {'height': 10, 'left': 178, 'top': 156, 'width': 31},\n",
       "   'words': ' Phone:'},\n",
       "  {'location': {'height': 10, 'left': 333, 'top': 156, 'width': 27},\n",
       "   'words': ' Email:'},\n",
       "  {'location': {'height': 15, 'left': 43, 'top': 172, 'width': 243},\n",
       "   'words': ' Program of study: (e.g. Bachelor or Master of Visual Arts)'},\n",
       "  {'location': {'height': 12, 'left': 43, 'top': 192, 'width': 148},\n",
       "   'words': ' Domestic or Intemational student:'},\n",
       "  {'location': {'height': 12, 'left': 48, 'top': 212, 'width': 268},\n",
       "   'words': ' BOOKS REQUIRED FOR CURRENTLY ENROLLED COURSES'},\n",
       "  {'location': {'height': 12, 'left': 43, 'top': 230, 'width': 62},\n",
       "   'words': ' Course Code:'},\n",
       "  {'location': {'height': 15, 'left': 173, 'top': 228, 'width': 119},\n",
       "   'words': ' Name of Book(s)Required:'},\n",
       "  {'location': {'height': 13, 'left': 500, 'top': 229, 'width': 73},\n",
       "   'words': ' Cost of Book(s):'},\n",
       "  {'location': {'height': 12, 'left': 43, 'top': 372, 'width': 141},\n",
       "   'words': ' REASONS FOR APPLICATION'},\n",
       "  {'location': {'height': 16, 'left': 43, 'top': 387, 'width': 537},\n",
       "   'words': ' Please explain your situation and your reasons for needing assistance, including the steps that you have taken to resolve your'},\n",
       "  {'location': {'height': 14, 'left': 42, 'top': 401, 'width': 114},\n",
       "   'words': ' current financial situation.'},\n",
       "  {'location': {'height': 12, 'left': 43, 'top': 626, 'width': 68},\n",
       "   'words': ' SIGNATURES'},\n",
       "  {'location': {'height': 14, 'left': 48, 'top': 643, 'width': 531},\n",
       "   'words': ' I give permission for my academic record and other documents to be held by ANUSA and the University to be assessed for the'},\n",
       "  {'location': {'height': 19, 'left': 42, 'top': 654, 'width': 537},\n",
       "   'words': ' ANU Book Award. Any information supplied will be treated in confidence and will be used by ANUSA and the University to determine'},\n",
       "  {'location': {'height': 11, 'left': 42, 'top': 667, 'width': 434},\n",
       "   'words': ' eligibility for this program only. I declare that the information provided on this form is true and complete'},\n",
       "  {'location': {'height': 13, 'left': 43, 'top': 684, 'width': 99},\n",
       "   'words': ' Signature of applicant:'},\n",
       "  {'location': {'height': 14, 'left': 328, 'top': 679, 'width': 31},\n",
       "   'words': ' Date:'},\n",
       "  {'location': {'height': 12, 'left': 43, 'top': 734, 'width': 102},\n",
       "   'words': ' Application received by:'},\n",
       "  {'location': {'height': 15, 'left': 327, 'top': 733, 'width': 67},\n",
       "   'words': ' Date received:'},\n",
       "  {'location': {'height': 13, 'left': 43, 'top': 751, 'width': 193},\n",
       "   'words': ' Decision on application and amount awarded:'},\n",
       "  {'location': {'height': 11, 'left': 332, 'top': 753, 'width': 73},\n",
       "   'words': ' Date of decision:'},\n",
       "  {'location': {'height': 13, 'left': 43, 'top': 770, 'width': 50},\n",
       "   'words': ' Co-signed:'},\n",
       "  {'location': {'height': 14, 'left': 327, 'top': 770, 'width': 32},\n",
       "   'words': ' Date:'},\n",
       "  {'location': {'height': 13, 'left': 43, 'top': 790, 'width': 50},\n",
       "   'words': ' Co-signed:'},\n",
       "  {'location': {'height': 15, 'left': 327, 'top': 789, 'width': 32},\n",
       "   'words': ' Date:'}],\n",
       " 'words_result_num': 35}"
      ]
     },
     "execution_count": 10,
     "metadata": {},
     "output_type": "execute_result"
    }
   ],
   "source": [
    "content"
   ]
  },
  {
   "cell_type": "code",
   "execution_count": null,
   "metadata": {},
   "outputs": [],
   "source": []
  }
 ],
 "metadata": {
  "kernelspec": {
   "display_name": "Python 3",
   "language": "python",
   "name": "python3"
  },
  "language_info": {
   "codemirror_mode": {
    "name": "ipython",
    "version": 3
   },
   "file_extension": ".py",
   "mimetype": "text/x-python",
   "name": "python",
   "nbconvert_exporter": "python",
   "pygments_lexer": "ipython3",
   "version": "3.5.6"
  }
 },
 "nbformat": 4,
 "nbformat_minor": 2
}
