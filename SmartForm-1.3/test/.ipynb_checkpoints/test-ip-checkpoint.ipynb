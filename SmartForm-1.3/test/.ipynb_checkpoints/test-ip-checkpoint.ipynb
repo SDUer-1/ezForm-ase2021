{
 "cells": [
  {
   "cell_type": "code",
   "execution_count": 1,
   "metadata": {},
   "outputs": [],
   "source": [
    "def Angle_Cosine(a,b,c):\n",
    "    a_b_vector=a-b\n",
    "    a_c_vector=a-c\n",
    "    cosine=(a_b_vector@a_c_vector)/(np.linalg.norm(a_b_vector)*np.linalg.norm(a_c_vector))\n",
    "    return cosine"
   ]
  },
  {
   "cell_type": "code",
   "execution_count": 2,
   "metadata": {},
   "outputs": [
    {
     "ename": "ValueError",
     "evalue": "too many values to unpack (expected 2)",
     "output_type": "error",
     "traceback": [
      "\u001b[1;31m---------------------------------------------------------------------------\u001b[0m",
      "\u001b[1;31mValueError\u001b[0m                                Traceback (most recent call last)",
      "\u001b[1;32m<ipython-input-2-ac1cb9bc4dbf>\u001b[0m in \u001b[0;36m<module>\u001b[1;34m()\u001b[0m\n\u001b[0;32m     12\u001b[0m \u001b[0mcv2\u001b[0m\u001b[1;33m.\u001b[0m\u001b[0mimshow\u001b[0m\u001b[1;33m(\u001b[0m\u001b[1;34m\"canny_result\"\u001b[0m\u001b[1;33m,\u001b[0m\u001b[0mcanny_result\u001b[0m\u001b[1;33m)\u001b[0m\u001b[1;33m\u001b[0m\u001b[0m\n\u001b[0;32m     13\u001b[0m \u001b[0mcv2\u001b[0m\u001b[1;33m.\u001b[0m\u001b[0mwaitKey\u001b[0m\u001b[1;33m(\u001b[0m\u001b[1;36m0\u001b[0m\u001b[1;33m)\u001b[0m\u001b[1;33m\u001b[0m\u001b[0m\n\u001b[1;32m---> 14\u001b[1;33m \u001b[0mcontours\u001b[0m\u001b[1;33m,\u001b[0m\u001b[0mhierarchy\u001b[0m\u001b[1;33m=\u001b[0m\u001b[0mcv2\u001b[0m\u001b[1;33m.\u001b[0m\u001b[0mfindContours\u001b[0m\u001b[1;33m(\u001b[0m\u001b[0mcanny_result\u001b[0m\u001b[1;33m,\u001b[0m\u001b[0mcv2\u001b[0m\u001b[1;33m.\u001b[0m\u001b[0mRETR_TREE\u001b[0m\u001b[1;33m,\u001b[0m\u001b[0mcv2\u001b[0m\u001b[1;33m.\u001b[0m\u001b[0mCHAIN_APPROX_NONE\u001b[0m\u001b[1;33m)\u001b[0m\u001b[1;33m\u001b[0m\u001b[0m\n\u001b[0m\u001b[0;32m     15\u001b[0m \u001b[1;32mfor\u001b[0m \u001b[0mcont\u001b[0m \u001b[1;32min\u001b[0m \u001b[0mcontours\u001b[0m\u001b[1;33m:\u001b[0m\u001b[1;33m\u001b[0m\u001b[0m\n\u001b[0;32m     16\u001b[0m     \u001b[0mperimeter\u001b[0m \u001b[1;33m=\u001b[0m \u001b[0mcv2\u001b[0m\u001b[1;33m.\u001b[0m\u001b[0marcLength\u001b[0m\u001b[1;33m(\u001b[0m\u001b[0mcont\u001b[0m\u001b[1;33m,\u001b[0m\u001b[1;32mTrue\u001b[0m\u001b[1;33m)\u001b[0m\u001b[1;33m\u001b[0m\u001b[0m\n",
      "\u001b[1;31mValueError\u001b[0m: too many values to unpack (expected 2)"
     ]
    }
   ],
   "source": [
    "import cv2\n",
    "img=cv2.imread(\"1.jpg\")\n",
    "cv2.imshow('visualize',img)\n",
    "cv2.waitKey(0)\n",
    "GrayImage=cv2.cvtColor(img,cv2.COLOR_BGR2GRAY)\n",
    "ret, th = cv2.threshold(GrayImage,0,255,cv2.THRESH_BINARY | cv2.THRESH_OTSU)\n",
    "#th_morph = cv2.morphologyEx(th, cv2.MORPH_CLOSE, cv2.getStructuringElement(cv2.MORPH_ELLIPSE, (1, 1)))\n",
    "th_blur=cv2.GaussianBlur(th,(5,5),0)\n",
    "#th = cv2.adaptiveThreshold(GrayImage,255,cv2.ADAPTIVE_THRESH_MEAN_C,cv2.THRESH_BINARY,5,5)\n",
    "#cv2.imwrite(\"./tests/data/contract3 1 th.png\", th)\n",
    "canny_result=cv2.Canny(th_blur,50,200)\n",
    "cv2.imshow(\"canny_result\",canny_result)\n",
    "cv2.waitKey(0)\n",
    "contours,hierarchy=cv2.findContours(canny_result,cv2.RETR_TREE,cv2.CHAIN_APPROX_NONE)\n",
    "for cont in contours:\n",
    "    perimeter = cv2.arcLength(cont,True)\n",
    "    epsilon = 0.02*cv2.arcLength(cont,True)\n",
    "    approx = cv2.approxPolyDP(cont,epsilon,True)\n",
    "    if (len(approx)==4 and abs(cv2.contourArea(cont))>100):\n",
    "        point_1=approx[0,0]\n",
    "        point_2=approx[1,0]\n",
    "        point_3=approx[2,0]\n",
    "        point_4=approx[3,0]\n",
    "        min_1_2_3=min(abs(Angle_Cosine(point_1,point_2,point_3)),abs(Angle_Cosine(point_2,point_1,point_3)),abs(Angle_Cosine(point_3,point_1,point_2)))\n",
    "        min_1_2_4=min(abs(Angle_Cosine(point_1,point_2,point_4)),abs(Angle_Cosine(point_2,point_1,point_4)),abs(Angle_Cosine(point_4,point_1,point_2)))\n",
    "        min_1_3_4=min(abs(Angle_Cosine(point_1,point_3,point_4)),abs(Angle_Cosine(point_3,point_1,point_4)),abs(Angle_Cosine(point_4,point_1,point_3)))\n",
    "        min_2_3_4=min(abs(Angle_Cosine(point_2,point_3,point_4)),abs(Angle_Cosine(point_3,point_2,point_4)),abs(Angle_Cosine(point_4,point_2,point_3)))\n",
    "        if(min_1_2_3<0.1 and min_1_2_4<0.1 and min_1_3_4<0.1 and min_2_3_4<0.1):\n",
    "            cv2.drawContours(img,cont,-1,(255,0,0))\n",
    "for i in range(len(top_list)):\n",
    "    cv2.rectangle(img, (left_list[i],top_list[i]), (left_list[i]+width_list[i],top_list[i]+height_list[i]),(0,0,255), 2)\n",
    "cv2.imshow(\"visualize\", img)\n",
    "cv2.waitKey(0)\n",
    "cv2.imwrite(\"Visualize_Result.png\", img)"
   ]
  },
  {
   "cell_type": "code",
   "execution_count": null,
   "metadata": {},
   "outputs": [],
   "source": []
  }
 ],
 "metadata": {
  "kernelspec": {
   "display_name": "Python 3",
   "language": "python",
   "name": "python3"
  },
  "language_info": {
   "codemirror_mode": {
    "name": "ipython",
    "version": 3
   },
   "file_extension": ".py",
   "mimetype": "text/x-python",
   "name": "python",
   "nbconvert_exporter": "python",
   "pygments_lexer": "ipython3",
   "version": "3.5.6"
  }
 },
 "nbformat": 4,
 "nbformat_minor": 2
}
