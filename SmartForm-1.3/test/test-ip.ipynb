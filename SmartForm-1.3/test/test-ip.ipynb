{
 "cells": [
  {
   "cell_type": "code",
   "execution_count": 1,
   "metadata": {},
   "outputs": [],
   "source": [
    "import cv2\n",
    "import numpy as np\n",
    "\n",
    "\n",
    "def gray_to_gradient(img):\n",
    "    if len(img.shape) == 3:\n",
    "        img = cv2.cvtColor(img, cv2.COLOR_BGR2GRAY)\n",
    "    img_f = np.copy(img)\n",
    "    img_f = img_f.astype(\"float\")\n",
    "\n",
    "    kernel_h = np.array([[0,0,0], [0,-1.,1.], [0,0,0]])\n",
    "    kernel_v = np.array([[0,0,0], [0,-1.,0], [0,1.,0]])\n",
    "    dst1 = abs(cv2.filter2D(img_f, -1, kernel_h))\n",
    "    dst2 = abs(cv2.filter2D(img_f, -1, kernel_v))\n",
    "    gradient = (dst1 + dst2).astype('uint8')\n",
    "    return gradient\n",
    "\n",
    "\n",
    "def binarization(org, grad_min, show=False, write_path=None, wait_key=0):\n",
    "    grey = cv2.cvtColor(org, cv2.COLOR_BGR2GRAY)\n",
    "    grad = gray_to_gradient(grey)        # get RoI with high gradient\n",
    "    rec, bin = cv2.threshold(grad, grad_min, 255, cv2.THRESH_BINARY)\n",
    "    morph = cv2.morphologyEx(bin, cv2.MORPH_CLOSE, (3, 3))  # remove noises\n",
    "    if write_path is not None:\n",
    "        cv2.imwrite(write_path, morph)\n",
    "    if show:\n",
    "        cv2.imshow('binary', morph)\n",
    "        if wait_key is not None:\n",
    "            cv2.waitKey(wait_key)\n",
    "    return morph"
   ]
  },
  {
   "cell_type": "code",
   "execution_count": 13,
   "metadata": {},
   "outputs": [],
   "source": [
    "img = cv2.imread('1.jpg')\n",
    "img_copy = img.copy()\n",
    "bin = binarization(img, 2, show=False)\n",
    "draw_contour = img.copy()\n",
    "_, contours,hierarchy=cv2.findContours(bin,cv2.RETR_TREE,cv2.CHAIN_APPROX_NONE)\n",
    "for i, cnt in enumerate(contours):\n",
    "    if abs(cv2.contourArea(cnt)) > 100:\n",
    "        draw_contour_bin = np.zeros((img.shape[0], img.shape[1]))\n",
    "        draw_contour = img.copy()\n",
    "#         cv2.drawContours(draw_contour_bin, cnt, -1, (255,0,0))\n",
    "#         cv2.drawContours(draw_contour, cnt, -1, (255,0,0))\n",
    "#         cv2.imshow(\"contour_bin\", draw_contour_bin)\n",
    "#         cv2.imshow(\"contour\", draw_contour)\n",
    "#         key = cv2.waitKey(0)\n",
    "#         if key == ord('q'):\n",
    "#             break\n",
    "# cv2.destroyAllWindows()"
   ]
  },
  {
   "cell_type": "code",
   "execution_count": 19,
   "metadata": {},
   "outputs": [],
   "source": [
    "img_copy = img.copy()\n",
    "board = np.zeros((img.shape[0], img.shape[1]))\n",
    "contour = np.reshape(contours[38], (-1, 2))\n",
    "cv2.drawContours(img_copy, contours[38], -1, (0,255,0), 1)\n",
    "cv2.imshow('c', img_copy)\n",
    "cv2.waitKey()\n",
    "cv2.destroyAllWindows()"
   ]
  },
  {
   "cell_type": "code",
   "execution_count": 20,
   "metadata": {},
   "outputs": [],
   "source": [
    "img_copy = img.copy()\n",
    "corner = cv2.boundingRect(contour)\n",
    "cv2.rectangle(img_copy, (corner[0], corner[1]), (corner[0] + corner[2], corner[1] + corner[3]), (255,0,0), 1)\n",
    "cv2.imshow('b', img_copy)\n",
    "cv2.waitKey()\n",
    "cv2.destroyAllWindows()"
   ]
  },
  {
   "cell_type": "code",
   "execution_count": 18,
   "metadata": {},
   "outputs": [
    {
     "data": {
      "text/plain": [
       "(339, 33, 17, 16)"
      ]
     },
     "execution_count": 18,
     "metadata": {},
     "output_type": "execute_result"
    }
   ],
   "source": [
    "corner"
   ]
  },
  {
   "cell_type": "code",
   "execution_count": null,
   "metadata": {},
   "outputs": [],
   "source": []
  },
  {
   "cell_type": "code",
   "execution_count": 44,
   "metadata": {},
   "outputs": [],
   "source": [
    "# *** Rectangle Recognition ***\n",
    "\n",
    "def is_rectangle(contour):\n",
    "    contour = np.reshape(contour, (-1, 2))\n",
    "    # calculate the slope k (y2-y1)/(x2-x1) the first between two neighboor points\n",
    "    if contour[0][0] == contour[1][0]:\n",
    "        k_pre = 'v'\n",
    "    else:\n",
    "        k_pre = (contour[0][1] - contour[1][1]) / (contour[0][0] - contour[1][0])\n",
    "\n",
    "    sides = []\n",
    "    slopes = []\n",
    "    side = [contour[0], contour[1]]\n",
    "    # variables for checking if it's valid to continue using the previous side\n",
    "    pop_pre = False\n",
    "    gap_to_pre = 0\n",
    "    for i, p in enumerate(contour[2:]):\n",
    "        # calculate the slope k between two neighboor points\n",
    "        if contour[i][0] == contour[i - 1][0]:\n",
    "            k = 'v'\n",
    "        else:\n",
    "            k = (contour[i][1] - contour[i - 1][1]) / (contour[i][0] - contour[i - 1][0])\n",
    "        print(side, k_pre, gap_to_pre)\n",
    "        # check if the two points on the same side\n",
    "        if k != k_pre:\n",
    "            # leave out noises\n",
    "            if len(side) < 4:\n",
    "                # continue using the last side\n",
    "                if len(sides) > 0 and k == slopes[-1] \\\n",
    "                        and not pop_pre and gap_to_pre < 4:\n",
    "                    side = sides.pop()\n",
    "                    side.append(p)\n",
    "                    k = slopes.pop()\n",
    "                    pop_pre = True\n",
    "                    gap_to_pre = 0\n",
    "                else:\n",
    "                    gap_to_pre += 1\n",
    "                    side = [p]\n",
    "            # count as valid side and store it in sides\n",
    "            else:\n",
    "                sides.append(side)\n",
    "                slopes.append(k_pre)\n",
    "                side = [p]\n",
    "                pop_pre = False\n",
    "                gap_to_pre = 0\n",
    "            k_pre = k\n",
    "        else:\n",
    "            side.append(p)\n",
    "    sides.append(side)\n",
    "    slopes.append(k_pre)\n",
    "    print('Side Number:', len(sides))\n",
    "    if len(sides) != 4:\n",
    "        return False\n",
    "    lens = [len(s) for s in sides]\n",
    "    # lens = sorted([len(s) for s in sides])\n",
    "    print('Side Lengths:', lens, ' Side Slopes:', slopes)\n",
    "    if (abs(lens[0] - lens[2]) < 4) and (abs(lens[1] - lens[3]) < 4):\n",
    "        return True\n",
    "    return False\n",
    "\n",
    "def check_slopes(contour):\n",
    "    contour = np.reshape(contour, (-1, 2))\n",
    "    sides = []\n",
    "    slopes = []\n",
    "    side = [contour[0], contour[1]]\n",
    "\n",
    "    # calculate the slope k (y2-y1)/(x2-x1) the first between two neighboor points\n",
    "    if contour[0][0] == contour[1][0]:\n",
    "        k_pre = 'v'\n",
    "    else:\n",
    "        k_pre = (contour[0][1] - contour[1][1]) / (contour[0][0] - contour[1][0])\n",
    "\n",
    "    for i, p in enumerate(contour[2:]):\n",
    "        # calculate the slope k between two neighboor points\n",
    "        if contour[i][0] == contour[i - 1][0]:\n",
    "            k = 'v'\n",
    "        else:\n",
    "            k = (contour[i][1] - contour[i - 1][1]) / (contour[i][0] - contour[i - 1][0])\n",
    "        # check if the two points on the same side\n",
    "        if k != k_pre:\n",
    "            sides.append(side)\n",
    "            slopes.append(k_pre)\n",
    "            side = [p]\n",
    "            k_pre = k\n",
    "        else:\n",
    "            side.append(p)\n",
    "    sides.append(side)\n",
    "    slopes.append(k_pre)\n",
    "    print(len(sides), slopes)\n",
    "    if len(sides) != 4:\n",
    "        return False\n",
    "    lens = sorted([len(s) for s in sides])\n",
    "    if (abs(lens[0] - lens[1]) < 5) and (abs(lens[2] - lens[3]) < 5):\n",
    "        return True\n",
    "    return False"
   ]
  },
  {
   "cell_type": "code",
   "execution_count": 45,
   "metadata": {},
   "outputs": [
    {
     "name": "stdout",
     "output_type": "stream",
     "text": [
      "[array([343,  34], dtype=int32), array([344,  33], dtype=int32)] -1.0 0\n",
      "[array([345,  33], dtype=int32)] 0.0 1\n",
      "[array([346,  33], dtype=int32)] -1.0 2\n",
      "[array([347,  33], dtype=int32)] 0.0 3\n",
      "[array([347,  33], dtype=int32), array([348,  33], dtype=int32)] 0.0 3\n",
      "[array([347,  33], dtype=int32), array([348,  33], dtype=int32), array([349,  33], dtype=int32)] 0.0 3\n",
      "[array([347,  33], dtype=int32), array([348,  33], dtype=int32), array([349,  33], dtype=int32), array([350,  33], dtype=int32)] 0.0 3\n",
      "[array([347,  33], dtype=int32), array([348,  33], dtype=int32), array([349,  33], dtype=int32), array([350,  33], dtype=int32), array([351,  33], dtype=int32)] 0.0 3\n",
      "[array([347,  33], dtype=int32), array([348,  33], dtype=int32), array([349,  33], dtype=int32), array([350,  33], dtype=int32), array([351,  33], dtype=int32), array([352,  34], dtype=int32)] 0.0 3\n",
      "[array([347,  33], dtype=int32), array([348,  33], dtype=int32), array([349,  33], dtype=int32), array([350,  33], dtype=int32), array([351,  33], dtype=int32), array([352,  34], dtype=int32), array([353,  33], dtype=int32)] 0.0 3\n",
      "[array([354,  33], dtype=int32)] 1.0 0\n",
      "[array([355,  34], dtype=int32)] -1.0 1\n",
      "[array([347,  33], dtype=int32), array([348,  33], dtype=int32), array([349,  33], dtype=int32), array([350,  33], dtype=int32), array([351,  33], dtype=int32), array([352,  34], dtype=int32), array([353,  33], dtype=int32), array([355,  35], dtype=int32)] 0.0 0\n",
      "[array([354,  36], dtype=int32)] 1.0 0\n",
      "[array([354,  37], dtype=int32)] v 1\n",
      "[array([353,  38], dtype=int32)] -1.0 2\n",
      "[array([352,  39], dtype=int32)] v 3\n",
      "[array([352,  40], dtype=int32)] -1.0 4\n",
      "[array([352,  40], dtype=int32), array([352,  41], dtype=int32)] -1.0 4\n",
      "[array([352,  42], dtype=int32)] v 5\n",
      "[array([352,  42], dtype=int32), array([351,  43], dtype=int32)] v 5\n",
      "[array([352,  42], dtype=int32), array([351,  43], dtype=int32), array([351,  44], dtype=int32)] v 5\n",
      "[array([350,  45], dtype=int32)] -1.0 6\n",
      "[array([349,  45], dtype=int32)] v 7\n",
      "[array([348,  46], dtype=int32)] -1.0 8\n",
      "[array([347,  46], dtype=int32)] -0.0 9\n",
      "[array([346,  45], dtype=int32)] -1.0 10\n",
      "[array([346,  46], dtype=int32)] -0.0 11\n",
      "[array([345,  47], dtype=int32)] 1.0 12\n",
      "[array([344,  48], dtype=int32)] v 13\n",
      "[array([343,  48], dtype=int32)] -1.0 14\n",
      "[array([343,  48], dtype=int32), array([342,  48], dtype=int32)] -1.0 14\n",
      "[array([341,  48], dtype=int32)] -0.0 15\n",
      "[array([341,  48], dtype=int32), array([340,  47], dtype=int32)] -0.0 15\n",
      "[array([341,  48], dtype=int32), array([340,  47], dtype=int32), array([339,  46], dtype=int32)] -0.0 15\n",
      "[array([339,  45], dtype=int32)] 1.0 16\n",
      "[array([339,  45], dtype=int32), array([339,  44], dtype=int32)] 1.0 16\n",
      "[array([339,  43], dtype=int32)] v 17\n",
      "[array([339,  43], dtype=int32), array([339,  42], dtype=int32)] v 17\n",
      "[array([339,  43], dtype=int32), array([339,  42], dtype=int32), array([339,  41], dtype=int32)] v 17\n",
      "[array([339,  43], dtype=int32), array([339,  42], dtype=int32), array([339,  41], dtype=int32), array([339,  40], dtype=int32)] v 17\n",
      "[array([339,  43], dtype=int32), array([339,  42], dtype=int32), array([339,  41], dtype=int32), array([339,  40], dtype=int32), array([339,  39], dtype=int32)] v 17\n",
      "[array([339,  43], dtype=int32), array([339,  42], dtype=int32), array([339,  41], dtype=int32), array([339,  40], dtype=int32), array([339,  39], dtype=int32), array([340,  38], dtype=int32)] v 17\n",
      "[array([339,  43], dtype=int32), array([339,  42], dtype=int32), array([339,  41], dtype=int32), array([339,  40], dtype=int32), array([339,  39], dtype=int32), array([340,  38], dtype=int32), array([341,  38], dtype=int32)] v 17\n",
      "[array([341,  37], dtype=int32)] -1.0 0\n",
      "[array([341,  36], dtype=int32)] 0.0 1\n",
      "[array([339,  43], dtype=int32), array([339,  42], dtype=int32), array([339,  41], dtype=int32), array([339,  40], dtype=int32), array([339,  39], dtype=int32), array([340,  38], dtype=int32), array([341,  38], dtype=int32), array([341,  35], dtype=int32)] v 0\n",
      "Side Number: 2\n"
     ]
    },
    {
     "data": {
      "text/plain": [
       "False"
      ]
     },
     "execution_count": 45,
     "metadata": {},
     "output_type": "execute_result"
    }
   ],
   "source": [
    "is_rectangle(contour)"
   ]
  },
  {
   "cell_type": "code",
   "execution_count": 34,
   "metadata": {},
   "outputs": [
    {
     "name": "stdout",
     "output_type": "stream",
     "text": [
      "28 [-1.0, 0.0, -1.0, 0.0, 1.0, -1.0, 0.0, 1.0, 'v', -1.0, 'v', -1.0, 'v', -1.0, 'v', -1.0, -0.0, -1.0, -0.0, 1.0, 'v', -1.0, -0.0, 1.0, 'v', -1.0, 0.0, 'v']\n"
     ]
    },
    {
     "data": {
      "text/plain": [
       "False"
      ]
     },
     "execution_count": 34,
     "metadata": {},
     "output_type": "execute_result"
    }
   ],
   "source": [
    "check_slopes(contour)"
   ]
  }
 ],
 "metadata": {
  "kernelspec": {
   "display_name": "Python 3",
   "language": "python",
   "name": "python3"
  },
  "language_info": {
   "codemirror_mode": {
    "name": "ipython",
    "version": 3
   },
   "file_extension": ".py",
   "mimetype": "text/x-python",
   "name": "python",
   "nbconvert_exporter": "python",
   "pygments_lexer": "ipython3",
   "version": "3.5.6"
  }
 },
 "nbformat": 4,
 "nbformat_minor": 2
}
