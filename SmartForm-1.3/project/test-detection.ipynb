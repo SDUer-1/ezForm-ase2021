{
 "cells": [
  {
   "cell_type": "code",
   "execution_count": 3,
   "metadata": {},
   "outputs": [],
   "source": [
    "from detection.Form import Form\n",
    "from detection.Image import Image\n",
    "import cv2\n",
    "import numpy as np"
   ]
  },
  {
   "cell_type": "code",
   "execution_count": 4,
   "metadata": {},
   "outputs": [
    {
     "name": "stdout",
     "output_type": "stream",
     "text": [
      "*** Google OCR Processing Time:3.254 s***\n",
      "*** Element Detection Time:0.609 s***\n"
     ]
    }
   ],
   "source": [
    "# *** 1. Form structure recognition ***\n",
    "dir = 'C:/Users/15091/Desktop/InputJPG'\n",
    "file = '4_0.jpg'\n",
    "img_path = dir + '/' + file\n",
    "form = Form(img_path)\n",
    "form.text_detection()\n",
    "form.element_detection()\n",
    "form.assign_element_ids()\n",
    "form.img.visualize_elements_contours_individual(board_opt='binary')\n",
    "form.visualize_all_elements()"
   ]
  },
  {
   "cell_type": "code",
   "execution_count": 3,
   "metadata": {},
   "outputs": [],
   "source": [
    "# *** 2. Special element recognition ***\n",
    "form.border_and_textbox_recognition()\n",
    "# form.visualize_all_elements()\n",
    "form.character_box_recognition()\n",
    "form.visualize_all_elements()"
   ]
  },
  {
   "cell_type": "code",
   "execution_count": 4,
   "metadata": {},
   "outputs": [],
   "source": [
    "# *** 3. Units labelling ***\n",
    "form.label_elements_as_units()\n",
    "form.sort_units()\n",
    "form.border_line_recognition()\n",
    "form.visualize_units()"
   ]
  },
  {
   "cell_type": "code",
   "execution_count": 5,
   "metadata": {},
   "outputs": [
    {
     "name": "stdout",
     "output_type": "stream",
     "text": [
      "*** The form is not vertical alignment ***\n"
     ]
    }
   ],
   "source": [
    "# *** 4. Form structure recognition ***\n",
    "form.check_vertical_aligned_form()\n",
    "# form.visualize_vertical_separators()\n",
    "form.group_units_by_separators()\n",
    "# form.visualize_unit_groups()"
   ]
  },
  {
   "cell_type": "code",
   "execution_count": 6,
   "metadata": {},
   "outputs": [],
   "source": [
    "# *** 5. Table obj ***\n",
    "form.table_detection()\n",
    "form.visualize_all_elements()\n",
    "form.table_refine()\n",
    "form.visualize_all_elements()"
   ]
  },
  {
   "cell_type": "code",
   "execution_count": 7,
   "metadata": {},
   "outputs": [],
   "source": [
    "# *** 6. Input compound recognition ***\n",
    "form.input_compound_recognition()\n",
    "form.visualize_detection_result()\n",
    "form.input_refine()\n",
    "# form.visualize_inputs()\n",
    "form.text_refine()\n",
    "form.visualize_detection_result()"
   ]
  },
  {
   "cell_type": "code",
   "execution_count": 8,
   "metadata": {},
   "outputs": [],
   "source": [
    "# *** 7. Export ***\n",
    "# form.export_detection_result_img()"
   ]
  },
  {
   "cell_type": "code",
   "execution_count": 9,
   "metadata": {},
   "outputs": [],
   "source": [
    "# form.img.visualize_elements_contours(element_opt='rectangle', board_opt='binary')\n",
    "\n",
    "# img = Image('data/input/2.jpg')\n",
    "# img.detect_rectangle_elements()\n",
    "# img.detect_line_elements()\n",
    "# img.visualize_elements_contours(element_opt='all', board_opt='binary')"
   ]
  }
 ],
 "metadata": {
  "kernelspec": {
   "display_name": "Python 3",
   "language": "python",
   "name": "python3"
  },
  "language_info": {
   "codemirror_mode": {
    "name": "ipython",
    "version": 3
   },
   "file_extension": ".py",
   "mimetype": "text/x-python",
   "name": "python",
   "nbconvert_exporter": "python",
   "pygments_lexer": "ipython3",
   "version": "3.7.3"
  }
 },
 "nbformat": 4,
 "nbformat_minor": 2
}
